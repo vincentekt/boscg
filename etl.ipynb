{
 "cells": [
  {
   "cell_type": "markdown",
   "metadata": {},
   "source": [
    "# Initializing Spark Session, Context and SQL Context"
   ]
  },
  {
   "cell_type": "code",
   "execution_count": null,
   "metadata": {},
   "outputs": [],
   "source": [
    "from pyspark import SparkContext\n",
    "sc = SparkContext(\"local\")"
   ]
  },
  {
   "cell_type": "code",
   "execution_count": 3,
   "metadata": {},
   "outputs": [],
   "source": [
    "from pyspark.sql import SparkSession\n",
    "spark = SparkSession(sc)"
   ]
  },
  {
   "cell_type": "code",
   "execution_count": 9,
   "metadata": {},
   "outputs": [],
   "source": [
    "from pyspark.sql import SQLContext\n",
    "sqlContext = SQLContext(sc)"
   ]
  },
  {
   "cell_type": "markdown",
   "metadata": {},
   "source": [
    "# Quick test on Spark Functionality"
   ]
  },
  {
   "cell_type": "code",
   "execution_count": 189,
   "metadata": {},
   "outputs": [
    {
     "data": {
      "text/plain": [
       "[Row(alpha='A', numa=1), Row(alpha='B', numa=1)]"
      ]
     },
     "execution_count": 189,
     "metadata": {},
     "output_type": "execute_result"
    }
   ],
   "source": [
    "sc.parallelize([(\"A\", 1), (\"B\", 1)]).toDF(['alpha', 'numa']).collect()"
   ]
  },
  {
   "cell_type": "markdown",
   "metadata": {},
   "source": [
    "# Define commonly used variables "
   ]
  },
  {
   "cell_type": "code",
   "execution_count": 191,
   "metadata": {},
   "outputs": [],
   "source": [
    "bzip_c = 'org.apache.hadoop.io.compress.BZip2Codec'\n",
    "gzip_c = 'org.apache.hadoop.io.compress.GzipCodec'\n",
    "db_csv = 'com.databricks.spark.csv'\n",
    "datapath = \"Datasets/originalDataset.csv\""
   ]
  },
  {
   "cell_type": "markdown",
   "metadata": {},
   "source": [
    "# Load Data"
   ]
  },
  {
   "cell_type": "code",
   "execution_count": null,
   "metadata": {},
   "outputs": [],
   "source": [
    "data = sqlContext.read.format(db_csv).options(header='true', inferschema='false', delimiter=',').load(datapath)"
   ]
  },
  {
   "cell_type": "markdown",
   "metadata": {},
   "source": [
    "## Have a look at the data"
   ]
  },
  {
   "cell_type": "code",
   "execution_count": 194,
   "metadata": {},
   "outputs": [
    {
     "data": {
      "text/plain": [
       "Row(Scorecard='ODI # 1', Team 1='Australia', Team 2='England', Winner='Australia', Margin='5 wickets', Ground='Melbourne', Match Date='Jan 5, 1971')"
      ]
     },
     "execution_count": 194,
     "metadata": {},
     "output_type": "execute_result"
    }
   ],
   "source": [
    "data.take(1)[0]"
   ]
  },
  {
   "cell_type": "code",
   "execution_count": 19,
   "metadata": {},
   "outputs": [],
   "source": [
    "from pyspark.sql.functions import col"
   ]
  },
  {
   "cell_type": "code",
   "execution_count": 21,
   "metadata": {},
   "outputs": [
    {
     "data": {
      "text/plain": [
       "[Row(Scorecard='ODI # 28', Team 1='India', Team 2='New Zealand', Winner='New Zealand', Margin='4 wickets', Ground='Manchester', Match Date='Jun 14, 1975')]"
      ]
     },
     "execution_count": 21,
     "metadata": {},
     "output_type": "execute_result"
    }
   ],
   "source": [
    "data.where(col(\"Team 1\") == \"India\").take(1)"
   ]
  },
  {
   "cell_type": "code",
   "execution_count": 24,
   "metadata": {},
   "outputs": [
    {
     "data": {
      "text/plain": [
       "930"
      ]
     },
     "execution_count": 24,
     "metadata": {},
     "output_type": "execute_result"
    }
   ],
   "source": [
    "data.where((col(\"Team 1\") == \"India\") | \n",
    "           (col(\"Team 2\") == \"India\")).count()"
   ]
  },
  {
   "cell_type": "code",
   "execution_count": 210,
   "metadata": {},
   "outputs": [
    {
     "data": {
      "text/plain": [
       "3932"
      ]
     },
     "execution_count": 210,
     "metadata": {},
     "output_type": "execute_result"
    }
   ],
   "source": [
    "data.count()"
   ]
  },
  {
   "cell_type": "code",
   "execution_count": 69,
   "metadata": {},
   "outputs": [],
   "source": [
    "from pyspark.sql.functions import when, lit\n",
    "import pyspark.sql.functions as F"
   ]
  },
  {
   "cell_type": "markdown",
   "metadata": {},
   "source": [
    "# Questions"
   ]
  },
  {
   "cell_type": "markdown",
   "metadata": {},
   "source": [
    "## 1. What is India’s total Win/Loss/Tie percentage?"
   ]
  },
  {
   "cell_type": "code",
   "execution_count": 198,
   "metadata": {},
   "outputs": [],
   "source": [
    "intermediate = data.where((col(\"Winner\") != \"no result\"))\\\n",
    "    .where((col(\"Team 1\") == \"India\") | \n",
    "           (col(\"Team 2\") == \"India\"))\\\n",
    "    .select([col(\"Team 1\"), col(\"Team 2\"), col(\"Ground\"), col(\"Margin\"), col(\"Match Date\"),\n",
    "             when(col(\"Winner\") == \"India\", 1).otherwise(0).alias(\"Win\"),\n",
    "             when(col(\"Winner\") == \"tied\", 1).otherwise(0).alias(\"Tie\"),\n",
    "             when((col(\"Winner\") != \"tied\") & \n",
    "                  (col(\"Winner\") != \"India\"), 1).otherwise(0).alias(\"Lose\")])\n"
   ]
  },
  {
   "cell_type": "code",
   "execution_count": 199,
   "metadata": {},
   "outputs": [
    {
     "data": {
      "text/plain": [
       "[Row(Win=53.48314606741573, Tie=0.7865168539325842, Lose=45.73033707865169)]"
      ]
     },
     "execution_count": 199,
     "metadata": {},
     "output_type": "execute_result"
    }
   ],
   "source": [
    "inter_1 = intermediate.agg(*[\n",
    "    F.sum(\"Win\").alias(\"Win\"), F.sum(\"Tie\").alias(\"Tie\"), F.sum(\"Lose\").alias(\"Lose\"), F.sum(lit(1)).alias(\"All\")])\n",
    "inter_1.withColumn(\"All\", col('All') / lit(100)).withColumn(\"Win\", col(\"Win\") / col(\"All\")).withColumn(\"Tie\", col(\"Tie\") / col(\"All\"))\\\n",
    "    .withColumn(\"Lose\", col(\"Lose\") / col(\"All\")).drop(\"All\").collect()"
   ]
  },
  {
   "cell_type": "markdown",
   "metadata": {},
   "source": [
    "## 2. What is India’s Win/Loss/Tie percentage in away and home matches?"
   ]
  },
  {
   "cell_type": "code",
   "execution_count": 201,
   "metadata": {},
   "outputs": [],
   "source": [
    "inter_2 = intermediate.withColumn(\"Home/Away\", when(col(\"Team 1\") == \"India\", \"Home\").otherwise(\"Away\"))\\\n",
    "    .select([\"Home/Away\", \"Win\", \"Tie\", \"Lose\"])\\\n",
    "    .groupBy([\"Home/Away\"])\\\n",
    "    .agg(*[F.sum(\"Win\").alias(\"Win\"), F.sum(\"Tie\").alias(\"Tie\"), F.sum(\"Lose\").alias(\"Lose\"), F.sum(lit(1)).alias(\"All\")])"
   ]
  },
  {
   "cell_type": "code",
   "execution_count": 202,
   "metadata": {},
   "outputs": [
    {
     "data": {
      "text/plain": [
       "[Row(Home/Away='Home', Win=57.798165137614674, Tie=0.9174311926605504, Lose=41.28440366972477),\n Row(Home/Away='Away', Win=46.666666666666664, Tie=0.5797101449275363, Lose=52.7536231884058)]"
      ]
     },
     "execution_count": 202,
     "metadata": {},
     "output_type": "execute_result"
    }
   ],
   "source": [
    "inter_2.withColumn(\"All\", col('All') / lit(100)).withColumn(\"Win\", col(\"Win\") / col(\"All\")).withColumn(\"Tie\", col(\"Tie\") / col(\"All\"))\\\n",
    "    .withColumn(\"Lose\", col(\"Lose\") / col(\"All\")).drop(\"All\").collect()"
   ]
  },
  {
   "cell_type": "markdown",
   "metadata": {},
   "source": [
    "## 3. How many matches has India played against different ICC teams?\n",
    "## 4. How many matches India has won or lost against different teams?"
   ]
  },
  {
   "cell_type": "code",
   "execution_count": 204,
   "metadata": {},
   "outputs": [],
   "source": [
    "inter_3 = intermediate.withColumn(\"Opponent\", when(col(\"Team 1\") == \"India\", col(\"Team 2\")).otherwise(col(\"Team 1\")))\\\n",
    "    .groupBy([\"Opponent\"])\\\n",
    "    .agg(*[F.sum(\"Win\").alias(\"Win\"), F.sum(\"Tie\").alias(\"Tie\"), F.sum(\"Lose\").alias(\"Lose\"), F.sum(lit(1)).alias(\"All\")])"
   ]
  },
  {
   "cell_type": "code",
   "execution_count": 206,
   "metadata": {},
   "outputs": [
    {
     "data": {
      "text/plain": [
       "[Row(Opponent='Afghanistan', Win=1, Tie=0, Lose=0, All=1),\n Row(Opponent='Sri Lanka', Win=88, Tie=1, Lose=55, All=144),\n Row(Opponent='West Indies', Win=56, Tie=1, Lose=61, All=118),\n Row(Opponent='Bangladesh', Win=27, Tie=0, Lose=5, All=32),\n Row(Opponent='Ireland', Win=3, Tie=0, Lose=0, All=3),\n Row(Opponent='Hong Kong', Win=1, Tie=0, Lose=0, All=1),\n Row(Opponent='U.A.E.', Win=3, Tie=0, Lose=0, All=3),\n Row(Opponent='Zimbabwe', Win=51, Tie=2, Lose=10, All=63),\n Row(Opponent='Namibia', Win=1, Tie=0, Lose=0, All=1),\n Row(Opponent='Kenya', Win=11, Tie=0, Lose=2, All=13),\n Row(Opponent='New Zealand', Win=51, Tie=1, Lose=44, All=96),\n Row(Opponent='England', Win=52, Tie=2, Lose=39, All=93),\n Row(Opponent='East Africa', Win=1, Tie=0, Lose=0, All=1),\n Row(Opponent='Australia', Win=45, Tie=0, Lose=73, All=118),\n Row(Opponent='South Africa', Win=29, Tie=0, Lose=45, All=74),\n Row(Opponent='Bermuda', Win=1, Tie=0, Lose=0, All=1),\n Row(Opponent='Scotland', Win=1, Tie=0, Lose=0, All=1),\n Row(Opponent='Pakistan', Win=52, Tie=0, Lose=73, All=125),\n Row(Opponent='Netherlands', Win=2, Tie=0, Lose=0, All=2)]"
      ]
     },
     "execution_count": 206,
     "metadata": {},
     "output_type": "execute_result"
    }
   ],
   "source": [
    "inter_3.collect()"
   ]
  },
  {
   "cell_type": "markdown",
   "metadata": {},
   "source": [
    "## 5. Which are the home and away grounds where India has played most number of matches?"
   ]
  },
  {
   "cell_type": "code",
   "execution_count": 130,
   "metadata": {},
   "outputs": [],
   "source": [
    "inter_4 = intermediate.withColumn(\"Home/Away\", when(col(\"Team 1\") == \"India\", \"Home\").otherwise(\"Away\"))\\\n",
    ".groupBy([\"Home/Away\", \"Ground\"])\\\n",
    "    .agg(*[F.sum(lit(1)).alias(\"All\")])"
   ]
  },
  {
   "cell_type": "code",
   "execution_count": 137,
   "metadata": {},
   "outputs": [
    {
     "data": {
      "text/plain": [
       "[Row(Home/Away='Home', Ground='Sharjah'),\n Row(Home/Away='Away', Ground='Colombo (RPS)')]"
      ]
     },
     "execution_count": 137,
     "metadata": {},
     "output_type": "execute_result"
    }
   ],
   "source": [
    "from pyspark.sql.functions import row_number\n",
    "from pyspark.sql.window import Window\n",
    "\n",
    "w = Window().partitionBy(\"Home/Away\").orderBy(col(\"All\").desc())\n",
    "inter_4.withColumn(\"rn\", row_number().over(w)).where(col(\"rn\") == 1).select(\"Home/Away\", \"Ground\").collect()"
   ]
  },
  {
   "cell_type": "markdown",
   "metadata": {},
   "source": [
    "## 6. What has been the average Indian win or loss by Runs per year?"
   ]
  },
  {
   "cell_type": "code",
   "execution_count": 240,
   "metadata": {},
   "outputs": [],
   "source": [
    "from pyspark.sql.functions import unix_timestamp, to_timestamp\n",
    "from pyspark.sql.functions import year\n",
    "inter_5 = intermediate.withColumn(\"Match Date\", to_timestamp(col(\"Match Date\"), 'MMM dd, yyyy'))\\\n",
    "    .withColumn(\"Year\", year(col(\"Match Date\")))"
   ]
  },
  {
   "cell_type": "code",
   "execution_count": 259,
   "metadata": {},
   "outputs": [
    {
     "data": {
      "text/plain": [
       "[Row(Year=2017, Avg Win Margin=73.38, Avg Lose Margin=54.25),\n Row(Year=2016, Avg Win Margin=190.0, Avg Lose Margin=16.67),\n Row(Year=2015, Avg Win Margin=66.44, Avg Lose Margin=82.2),\n Row(Year=2014, Avg Win Margin=101.5, Avg Lose Margin=58.2),\n Row(Year=2013, Avg Win Margin=58.25, Avg Lose Margin=100.33),\n Row(Year=2012, Avg Win Margin=30.33, Avg Lose Margin=78.25),\n Row(Year=2011, Avg Win Margin=75.62, Avg Lose Margin=67.0),\n Row(Year=2010, Avg Win Margin=76.0, Avg Lose Margin=121.33),\n Row(Year=2009, Avg Win Margin=59.2, Avg Lose Margin=48.67),\n Row(Year=2008, Avg Win Margin=81.22, Avg Lose Margin=61.0),\n Row(Year=2007, Avg Win Margin=66.44, Avg Lose Margin=50.0),\n Row(Year=2006, Avg Win Margin=38.75, Avg Lose Margin=52.12),\n Row(Year=2005, Avg Win Margin=93.0, Avg Lose Margin=83.5),\n Row(Year=2004, Avg Win Margin=39.45, Avg Lose Margin=53.89),\n Row(Year=2003, Avg Win Margin=122.3, Avg Lose Margin=75.0),\n Row(Year=2002, Avg Win Margin=51.38, Avg Lose Margin=42.83),\n Row(Year=2001, Avg Win Margin=90.2, Avg Lose Margin=62.88),\n Row(Year=2000, Avg Win Margin=46.0, Avg Lose Margin=85.2),\n Row(Year=1999, Avg Win Margin=74.07, Avg Lose Margin=66.83),\n Row(Year=1998, Avg Win Margin=31.25, Avg Lose Margin=52.56),\n Row(Year=1997, Avg Win Margin=27.0, Avg Lose Margin=21.0),\n Row(Year=1996, Avg Win Margin=36.0, Avg Lose Margin=49.38),\n Row(Year=1995, Avg Win Margin=None, Avg Lose Margin=70.0),\n Row(Year=1994, Avg Win Margin=35.33, Avg Lose Margin=52.25),\n Row(Year=1993, Avg Win Margin=43.0, Avg Lose Margin=41.67),\n Row(Year=1992, Avg Win Margin=42.67, Avg Lose Margin=28.6),\n Row(Year=1991, Avg Win Margin=46.8, Avg Lose Margin=38.0),\n Row(Year=1990, Avg Win Margin=10.0, Avg Lose Margin=47.0),\n Row(Year=1989, Avg Win Margin=21.5, Avg Lose Margin=47.29),\n Row(Year=1988, Avg Win Margin=45.83, Avg Lose Margin=31.5),\n Row(Year=1987, Avg Win Margin=44.0, Avg Lose Margin=27.8),\n Row(Year=1986, Avg Win Margin=37.0, Avg Lose Margin=59.4),\n Row(Year=1985, Avg Win Margin=62.0, Avg Lose Margin=23.0),\n Row(Year=1984, Avg Win Margin=54.0, Avg Lose Margin=31.67),\n Row(Year=1983, Avg Win Margin=54.75, Avg Lose Margin=82.4),\n Row(Year=1982, Avg Win Margin=48.0, Avg Lose Margin=55.0),\n Row(Year=1981, Avg Win Margin=None, Avg Lose Margin=46.0),\n Row(Year=1980, Avg Win Margin=25.67, Avg Lose Margin=None),\n Row(Year=1978, Avg Win Margin=4.0, Avg Lose Margin=None),\n Row(Year=1976, Avg Win Margin=None, Avg Lose Margin=80.0),\n Row(Year=1975, Avg Win Margin=None, Avg Lose Margin=202.0)]"
      ]
     },
     "execution_count": 259,
     "metadata": {},
     "output_type": "execute_result"
    }
   ],
   "source": [
    "inter_6 = inter_5.withColumn(\"Win/Tie/Lose\", \n",
    "                        when(col(\"Win\") == 1, \"Win\").when(col(\"Tie\") == 1, \"Tie\").when(col(\"Lose\") == 1, \"Lose\"))\\\n",
    "    .withColumn(\"Margin Count Type\", F.split(col(\"Margin\"), \" \"))\\\n",
    "    .withColumn(\"Margin Count\", col(\"Margin Count Type\").getItem(0).cast(\"Integer\"))\\\n",
    "    .withColumn(\"Margin Type\", col(\"Margin Count Type\").getItem(1)).where((col(\"Margin Type\").isin(['run', 'runs'])) & \n",
    "                                                                          (col(\"Win/Tie/Lose\").isin(['Win', 'Lose'])))\\\n",
    "    .groupBy([\"Year\", \"Win/Tie/Lose\"])\\\n",
    "    .agg(*[F.avg(col(\"Margin Count\")).alias(\"Avg Margin Count\")])\\\n",
    "    \n",
    "    \n",
    "yearly_win_stats = inter_6.where(col(\"Win/Tie/Lose\") == \"Win\").withColumn(\"Avg Win Margin\", \n",
    "                                                                          F.bround(col(\"Avg Margin Count\"), 2))\\\n",
    "    .drop(*[\"Win/Tie/Lose\", \"Avg Margin Count\"])\n",
    "yearly_lose_stats = inter_6.where(col(\"Win/Tie/Lose\") == \"Lose\").withColumn(\"Avg Lose Margin\", \n",
    "                                                                            F.bround(col(\"Avg Margin Count\"), 2))\\\n",
    "    .drop(*[\"Win/Tie/Lose\", \"Avg Margin Count\"])\n",
    "\n",
    "yearly_win_stats.join(yearly_lose_stats, \"Year\", \"outer\").sort(col(\"Year\").desc()).where(col(\"Year\").isNotNull()).collect()"
   ]
  },
  {
   "cell_type": "code",
   "execution_count": null,
   "metadata": {},
   "outputs": [],
   "source": []
  }
 ],
 "metadata": {},
 "nbformat": 4,
 "nbformat_minor": 0
}
